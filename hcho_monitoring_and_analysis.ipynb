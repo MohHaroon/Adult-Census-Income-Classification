{
  "nbformat": 4,
  "nbformat_minor": 0,
  "metadata": {
    "colab": {
      "provenance": [],
      "collapsed_sections": [
        "IwmAF3u0OlV9",
        "fOmyfe2jQEyL",
        "qqu1tRgEhsDP",
        "B1fc9BRspQqg",
        "NnZc80TfqnyV",
        "BO4cV3Y1OcEw",
        "SnDzlB8KOnzQ",
        "x0_fBDuEL-DA",
        "mzG5seulGKuY"
      ],
      "mount_file_id": "15X0Fxpx_AGzNxI2ZzO8Ya0E7gmnOiwBH",
      "authorship_tag": "ABX9TyOi7cr6q+WkLhzcsH/b+608",
      "include_colab_link": true
    },
    "kernelspec": {
      "name": "python3",
      "display_name": "Python 3"
    },
    "language_info": {
      "name": "python"
    }
  },
  "cells": [
    {
      "cell_type": "markdown",
      "metadata": {
        "id": "view-in-github",
        "colab_type": "text"
      },
      "source": [
        "<a href=\"https://colab.research.google.com/github/MohHaroon/Adult-Census-Income-Classification/blob/main/hcho_monitoring_and_analysis.ipynb\" target=\"_parent\"><img src=\"https://colab.research.google.com/assets/colab-badge.svg\" alt=\"Open In Colab\"/></a>"
      ]
    },
    {
      "cell_type": "markdown",
      "source": [
        "## Import necessary libraries"
      ],
      "metadata": {
        "id": "IwmAF3u0OlV9"
      }
    },
    {
      "cell_type": "code",
      "source": [
        "!pip install pyspark"
      ],
      "metadata": {
        "colab": {
          "base_uri": "https://localhost:8080/"
        },
        "id": "ZvIRdg09gmni",
        "outputId": "cdbb14eb-f8d9-4296-c3a4-0b568c0257b9"
      },
      "execution_count": 77,
      "outputs": [
        {
          "output_type": "stream",
          "name": "stdout",
          "text": [
            "Requirement already satisfied: pyspark in /usr/local/lib/python3.10/dist-packages (3.5.1)\n",
            "Requirement already satisfied: py4j==0.10.9.7 in /usr/local/lib/python3.10/dist-packages (from pyspark) (0.10.9.7)\n"
          ]
        }
      ]
    },
    {
      "cell_type": "code",
      "execution_count": 78,
      "metadata": {
        "id": "qvLd_FX6N1dZ"
      },
      "outputs": [],
      "source": [
        "from pyspark.sql import SparkSession\n",
        "from pyspark.sql.functions import *\n",
        "from pyspark.sql.types import *\n"
      ]
    },
    {
      "cell_type": "markdown",
      "source": [
        "##Initialize Spark session\n"
      ],
      "metadata": {
        "id": "fOmyfe2jQEyL"
      }
    },
    {
      "cell_type": "code",
      "source": [
        "spark = SparkSession.builder.appName(\"HCHO_analysis\").getOrCreate()"
      ],
      "metadata": {
        "id": "rq17YfttQLQz"
      },
      "execution_count": 79,
      "outputs": []
    },
    {
      "cell_type": "markdown",
      "source": [
        "#Load data into the dataset"
      ],
      "metadata": {
        "id": "qqu1tRgEhsDP"
      }
    },
    {
      "cell_type": "code",
      "source": [
        "col_mat_nuw_output = spark.read.csv(\"/content/drive/MyDrive/CM2606 CW/col_mat_nuw_output.csv\", inferSchema = True)\n",
        "mon_kur_jaf_output = spark.read.csv(\"/content/drive/MyDrive/CM2606 CW/mon_kur_jaf_output.csv\", inferSchema = True)\n",
        "kan_output = spark.read.csv(\"/content/drive/MyDrive/CM2606 CW/kan_output.csv\", inferSchema = True)"
      ],
      "metadata": {
        "id": "6cvt6MpZhwxB"
      },
      "execution_count": 80,
      "outputs": []
    },
    {
      "cell_type": "markdown",
      "source": [
        "#Exploratary data analysis"
      ],
      "metadata": {
        "id": "B1fc9BRspQqg"
      }
    },
    {
      "cell_type": "code",
      "source": [
        "col_mat_nuw_output.show()\n",
        "mon_kur_jaf_output.show()\n",
        "kan_output.show()"
      ],
      "metadata": {
        "colab": {
          "base_uri": "https://localhost:8080/"
        },
        "id": "DQp0XHKzjwKH",
        "outputId": "64707b35-9c16-4821-c6ac-07aedc7acbba"
      },
      "execution_count": 81,
      "outputs": [
        {
          "output_type": "stream",
          "name": "stdout",
          "text": [
            "+--------------------+--------------+----------+----------+\n",
            "|                 _c0|           _c1|       _c2|       _c3|\n",
            "+--------------------+--------------+----------+----------+\n",
            "|1.969834395781014...|Colombo Proper|2019-01-01|2019-01-02|\n",
            "|2.625522171968594...|Colombo Proper|2019-01-02|2019-01-03|\n",
            "|9.852118897938794E-5|Colombo Proper|2019-01-03|2019-01-04|\n",
            "|2.099320518114242E-4|Colombo Proper|2019-01-04|2019-01-05|\n",
            "|1.785337298892930...|Colombo Proper|2019-01-05|2019-01-06|\n",
            "|1.082296700235670...|Colombo Proper|2019-01-06|2019-01-07|\n",
            "|3.926829280477309...|Colombo Proper|2019-01-07|2019-01-08|\n",
            "|9.153156350685351E-5|Colombo Proper|2019-01-08|2019-01-09|\n",
            "|1.205978992853015...|Colombo Proper|2019-01-09|2019-01-10|\n",
            "|1.297723562983258...|Colombo Proper|2019-01-10|2019-01-11|\n",
            "|2.239188166801278...|Colombo Proper|2019-01-11|2019-01-12|\n",
            "|1.569418094178759...|Colombo Proper|2019-01-12|2019-01-13|\n",
            "|                NULL|Colombo Proper|2019-01-13|2019-01-14|\n",
            "|1.336291906862603...|Colombo Proper|2019-01-14|2019-01-15|\n",
            "|6.374417842690063E-5|Colombo Proper|2019-01-15|2019-01-16|\n",
            "|1.181062250815020...|Colombo Proper|2019-01-16|2019-01-17|\n",
            "|2.472555222423037...|Colombo Proper|2019-01-17|2019-01-18|\n",
            "|3.667525352047757E-5|Colombo Proper|2019-01-18|2019-01-19|\n",
            "|4.057500868150313E-4|Colombo Proper|2019-01-19|2019-01-20|\n",
            "|1.687856216479722...|Colombo Proper|2019-01-20|2019-01-21|\n",
            "+--------------------+--------------+----------+----------+\n",
            "only showing top 20 rows\n",
            "\n",
            "+--------------------+------------------+----------+----------+\n",
            "|                 _c0|               _c1|       _c2|       _c3|\n",
            "+--------------------+------------------+----------+----------+\n",
            "|                NULL|Bibile, Monaragala|2019-01-01|2019-01-02|\n",
            "|1.919914652467399E-5|Bibile, Monaragala|2019-01-02|2019-01-03|\n",
            "|2.811447935930283...|Bibile, Monaragala|2019-01-03|2019-01-04|\n",
            "|3.747998184385943E-5|Bibile, Monaragala|2019-01-04|2019-01-05|\n",
            "|-1.79826087934531...|Bibile, Monaragala|2019-01-05|2019-01-06|\n",
            "|1.457836896179902...|Bibile, Monaragala|2019-01-06|2019-01-07|\n",
            "|2.828590802546534...|Bibile, Monaragala|2019-01-07|2019-01-08|\n",
            "|                NULL|Bibile, Monaragala|2019-01-08|2019-01-09|\n",
            "|1.420850167050957...|Bibile, Monaragala|2019-01-09|2019-01-10|\n",
            "|                NULL|Bibile, Monaragala|2019-01-10|2019-01-11|\n",
            "|2.014587947072581E-5|Bibile, Monaragala|2019-01-11|2019-01-12|\n",
            "|1.582787663210183...|Bibile, Monaragala|2019-01-12|2019-01-13|\n",
            "|                NULL|Bibile, Monaragala|2019-01-13|2019-01-14|\n",
            "|                NULL|Bibile, Monaragala|2019-01-14|2019-01-15|\n",
            "|9.952823849642218E-5|Bibile, Monaragala|2019-01-15|2019-01-16|\n",
            "|7.484570960514249E-5|Bibile, Monaragala|2019-01-16|2019-01-17|\n",
            "|7.736112226328797E-5|Bibile, Monaragala|2019-01-17|2019-01-18|\n",
            "|                NULL|Bibile, Monaragala|2019-01-18|2019-01-19|\n",
            "|3.988141010407665...|Bibile, Monaragala|2019-01-19|2019-01-20|\n",
            "|1.891620203853342...|Bibile, Monaragala|2019-01-20|2019-01-21|\n",
            "+--------------------+------------------+----------+----------+\n",
            "only showing top 20 rows\n",
            "\n",
            "+--------------------+------------+----------+----------+\n",
            "|                 _c0|         _c1|       _c2|       _c3|\n",
            "+--------------------+------------+----------+----------+\n",
            "|1.760713459877335...|Kandy Proper|2019-01-01|2019-01-02|\n",
            "|9.220391253917748E-5|Kandy Proper|2019-01-02|2019-01-03|\n",
            "|                NULL|Kandy Proper|2019-01-03|2019-01-04|\n",
            "|1.908681983853839...|Kandy Proper|2019-01-04|2019-01-05|\n",
            "|1.219517840206744...|Kandy Proper|2019-01-05|2019-01-06|\n",
            "|-6.51408612938880...|Kandy Proper|2019-01-06|2019-01-07|\n",
            "|  1.6323820639265E-4|Kandy Proper|2019-01-07|2019-01-08|\n",
            "|-6.73520553391426...|Kandy Proper|2019-01-08|2019-01-09|\n",
            "|1.279693658243135...|Kandy Proper|2019-01-09|2019-01-10|\n",
            "|4.546048424126012E-5|Kandy Proper|2019-01-10|2019-01-11|\n",
            "|3.600074175192105E-5|Kandy Proper|2019-01-11|2019-01-12|\n",
            "|1.286629698010177E-4|Kandy Proper|2019-01-12|2019-01-13|\n",
            "|                NULL|Kandy Proper|2019-01-13|2019-01-14|\n",
            "|                NULL|Kandy Proper|2019-01-14|2019-01-15|\n",
            "| 9.63639634671553E-5|Kandy Proper|2019-01-15|2019-01-16|\n",
            "|                NULL|Kandy Proper|2019-01-16|2019-01-17|\n",
            "|1.200971278484736...|Kandy Proper|2019-01-17|2019-01-18|\n",
            "|-1.19724656713695...|Kandy Proper|2019-01-18|2019-01-19|\n",
            "|2.825263761529470...|Kandy Proper|2019-01-19|2019-01-20|\n",
            "|7.150631692646835E-5|Kandy Proper|2019-01-20|2019-01-21|\n",
            "+--------------------+------------+----------+----------+\n",
            "only showing top 20 rows\n",
            "\n"
          ]
        }
      ]
    },
    {
      "cell_type": "code",
      "source": [
        "col_mat_nuw_output.printSchema()"
      ],
      "metadata": {
        "id": "5fG3NrxTj-WU",
        "colab": {
          "base_uri": "https://localhost:8080/"
        },
        "outputId": "c64a4114-3998-425a-909f-0eee6e3a93eb"
      },
      "execution_count": 82,
      "outputs": [
        {
          "output_type": "stream",
          "name": "stdout",
          "text": [
            "root\n",
            " |-- _c0: double (nullable = true)\n",
            " |-- _c1: string (nullable = true)\n",
            " |-- _c2: date (nullable = true)\n",
            " |-- _c3: date (nullable = true)\n",
            "\n"
          ]
        }
      ]
    },
    {
      "cell_type": "code",
      "source": [
        "mon_kur_jaf_output.printSchema()"
      ],
      "metadata": {
        "colab": {
          "base_uri": "https://localhost:8080/"
        },
        "id": "OyrOqBA-w01a",
        "outputId": "b20d988a-beb8-49e9-aa74-3366ede08969"
      },
      "execution_count": 83,
      "outputs": [
        {
          "output_type": "stream",
          "name": "stdout",
          "text": [
            "root\n",
            " |-- _c0: double (nullable = true)\n",
            " |-- _c1: string (nullable = true)\n",
            " |-- _c2: date (nullable = true)\n",
            " |-- _c3: date (nullable = true)\n",
            "\n"
          ]
        }
      ]
    },
    {
      "cell_type": "code",
      "source": [
        "kan_output.printSchema()"
      ],
      "metadata": {
        "colab": {
          "base_uri": "https://localhost:8080/"
        },
        "id": "ZcOtSLl8xDbK",
        "outputId": "69de770c-d85d-4309-ad78-1a6483f9fc94"
      },
      "execution_count": 84,
      "outputs": [
        {
          "output_type": "stream",
          "name": "stdout",
          "text": [
            "root\n",
            " |-- _c0: double (nullable = true)\n",
            " |-- _c1: string (nullable = true)\n",
            " |-- _c2: date (nullable = true)\n",
            " |-- _c3: date (nullable = true)\n",
            "\n"
          ]
        }
      ]
    },
    {
      "cell_type": "code",
      "source": [
        "col_mat_nuw_output.count()"
      ],
      "metadata": {
        "colab": {
          "base_uri": "https://localhost:8080/"
        },
        "id": "EXV_2gH_xs5r",
        "outputId": "0495854d-9df7-458f-b0de-94aca8a525e6"
      },
      "execution_count": 85,
      "outputs": [
        {
          "output_type": "execute_result",
          "data": {
            "text/plain": [
              "5478"
            ]
          },
          "metadata": {},
          "execution_count": 85
        }
      ]
    },
    {
      "cell_type": "code",
      "source": [
        "mon_kur_jaf_output.count()"
      ],
      "metadata": {
        "colab": {
          "base_uri": "https://localhost:8080/"
        },
        "id": "faHGYuT5y2q6",
        "outputId": "9165f36b-5e4f-4f04-c74e-d8fe9414c6a4"
      },
      "execution_count": 86,
      "outputs": [
        {
          "output_type": "execute_result",
          "data": {
            "text/plain": [
              "5478"
            ]
          },
          "metadata": {},
          "execution_count": 86
        }
      ]
    },
    {
      "cell_type": "code",
      "source": [
        "kan_output.count()"
      ],
      "metadata": {
        "colab": {
          "base_uri": "https://localhost:8080/"
        },
        "id": "YNOvgatsy5t-",
        "outputId": "82c4db62-c59d-42b5-83cb-0d9f9038d59b"
      },
      "execution_count": 87,
      "outputs": [
        {
          "output_type": "execute_result",
          "data": {
            "text/plain": [
              "1826"
            ]
          },
          "metadata": {},
          "execution_count": 87
        }
      ]
    },
    {
      "cell_type": "code",
      "source": [
        "sl_data = col_mat_nuw_output.union(mon_kur_jaf_output).union(kan_output)"
      ],
      "metadata": {
        "id": "08hcaPTz0WWD"
      },
      "execution_count": 88,
      "outputs": []
    },
    {
      "cell_type": "code",
      "source": [
        "sl_data.count()"
      ],
      "metadata": {
        "colab": {
          "base_uri": "https://localhost:8080/"
        },
        "id": "H2MEqmGh0t6S",
        "outputId": "48ae94b4-aa9f-4e9a-d7d9-dac82a98e795"
      },
      "execution_count": 89,
      "outputs": [
        {
          "output_type": "execute_result",
          "data": {
            "text/plain": [
              "12782"
            ]
          },
          "metadata": {},
          "execution_count": 89
        }
      ]
    },
    {
      "cell_type": "code",
      "source": [
        "sl_data = sl_data.withColumnRenamed(\"_c0\", \"HCHO_reading\").withColumnRenamed(\"_c1\", \"Location\").withColumnRenamed(\"_c2\", \"Current_Date\").withColumnRenamed(\"_c3\", \"Next_Date\")"
      ],
      "metadata": {
        "id": "erpK2_CI1cUC"
      },
      "execution_count": 90,
      "outputs": []
    },
    {
      "cell_type": "code",
      "source": [
        "sl_data.show()"
      ],
      "metadata": {
        "colab": {
          "base_uri": "https://localhost:8080/"
        },
        "id": "6WyunD7h597C",
        "outputId": "47a2193a-3254-43c8-8501-cd4fbe1347d6"
      },
      "execution_count": 91,
      "outputs": [
        {
          "output_type": "stream",
          "name": "stdout",
          "text": [
            "+--------------------+--------------+------------+----------+\n",
            "|        HCHO_reading|      Location|Current_Date| Next_Date|\n",
            "+--------------------+--------------+------------+----------+\n",
            "|1.969834395781014...|Colombo Proper|  2019-01-01|2019-01-02|\n",
            "|2.625522171968594...|Colombo Proper|  2019-01-02|2019-01-03|\n",
            "|9.852118897938794E-5|Colombo Proper|  2019-01-03|2019-01-04|\n",
            "|2.099320518114242E-4|Colombo Proper|  2019-01-04|2019-01-05|\n",
            "|1.785337298892930...|Colombo Proper|  2019-01-05|2019-01-06|\n",
            "|1.082296700235670...|Colombo Proper|  2019-01-06|2019-01-07|\n",
            "|3.926829280477309...|Colombo Proper|  2019-01-07|2019-01-08|\n",
            "|9.153156350685351E-5|Colombo Proper|  2019-01-08|2019-01-09|\n",
            "|1.205978992853015...|Colombo Proper|  2019-01-09|2019-01-10|\n",
            "|1.297723562983258...|Colombo Proper|  2019-01-10|2019-01-11|\n",
            "|2.239188166801278...|Colombo Proper|  2019-01-11|2019-01-12|\n",
            "|1.569418094178759...|Colombo Proper|  2019-01-12|2019-01-13|\n",
            "|                NULL|Colombo Proper|  2019-01-13|2019-01-14|\n",
            "|1.336291906862603...|Colombo Proper|  2019-01-14|2019-01-15|\n",
            "|6.374417842690063E-5|Colombo Proper|  2019-01-15|2019-01-16|\n",
            "|1.181062250815020...|Colombo Proper|  2019-01-16|2019-01-17|\n",
            "|2.472555222423037...|Colombo Proper|  2019-01-17|2019-01-18|\n",
            "|3.667525352047757E-5|Colombo Proper|  2019-01-18|2019-01-19|\n",
            "|4.057500868150313E-4|Colombo Proper|  2019-01-19|2019-01-20|\n",
            "|1.687856216479722...|Colombo Proper|  2019-01-20|2019-01-21|\n",
            "+--------------------+--------------+------------+----------+\n",
            "only showing top 20 rows\n",
            "\n"
          ]
        }
      ]
    },
    {
      "cell_type": "code",
      "source": [
        "sl_data.groupBy(\"Location\").count().show()"
      ],
      "metadata": {
        "colab": {
          "base_uri": "https://localhost:8080/"
        },
        "id": "Hj19wO5A3UvI",
        "outputId": "8d8e65db-9eec-47f5-8b93-78ba5bcc8eb4"
      },
      "execution_count": 92,
      "outputs": [
        {
          "output_type": "stream",
          "name": "stdout",
          "text": [
            "+-------------------+-----+\n",
            "|           Location|count|\n",
            "+-------------------+-----+\n",
            "|   Deniyaya, Matara| 1826|\n",
            "|     Colombo Proper| 1826|\n",
            "|Nuwara Eliya Proper| 1826|\n",
            "|  Kurunegala Proper| 1826|\n",
            "| Bibile, Monaragala| 1826|\n",
            "|      Jaffna Proper| 1826|\n",
            "|       Kandy Proper| 1826|\n",
            "+-------------------+-----+\n",
            "\n"
          ]
        }
      ]
    },
    {
      "cell_type": "code",
      "source": [
        "sl_data.groupBy(\"Current_Date\").count().orderBy(\"count\", ascending=False).show()\n",
        "sl_data.groupBy(\"Next_Date\").count().orderBy(\"count\", ascending=False).show()"
      ],
      "metadata": {
        "colab": {
          "base_uri": "https://localhost:8080/"
        },
        "id": "a7gWFr2h6Zml",
        "outputId": "6feac26d-765d-4a81-9116-a169318d81ed"
      },
      "execution_count": 93,
      "outputs": [
        {
          "output_type": "stream",
          "name": "stdout",
          "text": [
            "+------------+-----+\n",
            "|Current_Date|count|\n",
            "+------------+-----+\n",
            "|  2019-05-08|    7|\n",
            "|  2019-06-04|    7|\n",
            "|  2020-08-24|    7|\n",
            "|  2021-01-27|    7|\n",
            "|  2021-06-22|    7|\n",
            "|  2021-08-27|    7|\n",
            "|  2021-10-11|    7|\n",
            "|  2021-11-13|    7|\n",
            "|  2021-12-18|    7|\n",
            "|  2022-03-28|    7|\n",
            "|  2022-07-31|    7|\n",
            "|  2023-06-22|    7|\n",
            "|  2023-07-15|    7|\n",
            "|  2019-09-22|    7|\n",
            "|  2019-11-01|    7|\n",
            "|  2019-11-18|    7|\n",
            "|  2020-01-21|    7|\n",
            "|  2020-07-24|    7|\n",
            "|  2020-08-05|    7|\n",
            "|  2020-11-29|    7|\n",
            "+------------+-----+\n",
            "only showing top 20 rows\n",
            "\n",
            "+----------+-----+\n",
            "| Next_Date|count|\n",
            "+----------+-----+\n",
            "|2019-05-08|    7|\n",
            "|2019-06-04|    7|\n",
            "|2020-08-24|    7|\n",
            "|2021-01-27|    7|\n",
            "|2021-06-22|    7|\n",
            "|2021-08-27|    7|\n",
            "|2021-10-11|    7|\n",
            "|2021-11-13|    7|\n",
            "|2021-12-18|    7|\n",
            "|2022-03-28|    7|\n",
            "|2022-07-31|    7|\n",
            "|2023-06-22|    7|\n",
            "|2023-07-15|    7|\n",
            "|2019-09-22|    7|\n",
            "|2019-11-01|    7|\n",
            "|2019-11-18|    7|\n",
            "|2020-01-21|    7|\n",
            "|2020-07-24|    7|\n",
            "|2020-08-05|    7|\n",
            "|2020-11-29|    7|\n",
            "+----------+-----+\n",
            "only showing top 20 rows\n",
            "\n"
          ]
        }
      ]
    },
    {
      "cell_type": "code",
      "source": [
        "sl_data.groupBy(\"HCHO_reading\").count().orderBy(\"count\", ascending=False).show()"
      ],
      "metadata": {
        "colab": {
          "base_uri": "https://localhost:8080/"
        },
        "id": "uepxeHwo6xhE",
        "outputId": "72b95909-4f5f-4707-813f-6ef923d0cb92"
      },
      "execution_count": 94,
      "outputs": [
        {
          "output_type": "stream",
          "name": "stdout",
          "text": [
            "+--------------------+-----+\n",
            "|        HCHO_reading|count|\n",
            "+--------------------+-----+\n",
            "|                NULL| 4864|\n",
            "|8.925810029372805E-5|    1|\n",
            "|1.485055886232474...|    1|\n",
            "|1.144656784438417...|    1|\n",
            "|1.624422749850199...|    1|\n",
            "|1.843671941389100...|    1|\n",
            "|2.289257347507758E-4|    1|\n",
            "|1.568694436659797...|    1|\n",
            "|2.955471068557156E-4|    1|\n",
            "|7.345198097368317E-5|    1|\n",
            "|1.158354593824839...|    1|\n",
            "|7.002533500214887E-5|    1|\n",
            "|4.072215805419399...|    1|\n",
            "|7.456395320699945E-5|    1|\n",
            "|3.090292903243917E-5|    1|\n",
            "|1.622308343621376...|    1|\n",
            "|2.984725432944723E-4|    1|\n",
            "|1.076937462352484...|    1|\n",
            "|1.102070148058524...|    1|\n",
            "|1.614190987342073E-4|    1|\n",
            "+--------------------+-----+\n",
            "only showing top 20 rows\n",
            "\n"
          ]
        }
      ]
    },
    {
      "cell_type": "code",
      "source": [
        "# Filter rows where Hcho reading is null\n",
        "null_hcho_count = sl_data.filter(col(\"HCHO_reading\").isNull()).groupBy(\"Location\").count()\n",
        "\n",
        "null_hcho_count.show()"
      ],
      "metadata": {
        "colab": {
          "base_uri": "https://localhost:8080/"
        },
        "id": "qkwNx04r0psa",
        "outputId": "7bb360fd-9ec6-41a6-8012-9c309eed8469"
      },
      "execution_count": 95,
      "outputs": [
        {
          "output_type": "stream",
          "name": "stdout",
          "text": [
            "+-------------------+-----+\n",
            "|           Location|count|\n",
            "+-------------------+-----+\n",
            "|   Deniyaya, Matara|  847|\n",
            "|     Colombo Proper|  487|\n",
            "|Nuwara Eliya Proper| 1085|\n",
            "|  Kurunegala Proper|  592|\n",
            "| Bibile, Monaragala|  695|\n",
            "|      Jaffna Proper|  365|\n",
            "|       Kandy Proper|  793|\n",
            "+-------------------+-----+\n",
            "\n"
          ]
        }
      ]
    },
    {
      "cell_type": "code",
      "source": [
        "invalid_dates = sl_data.filter(col(\"Current_date\").isNull() & col(\"Next_date\").isNull())\n",
        "invalid_dates.show()"
      ],
      "metadata": {
        "colab": {
          "base_uri": "https://localhost:8080/"
        },
        "id": "4RYCNvck0reT",
        "outputId": "6f186c4c-0fa0-46b4-c2f6-488bacbf3e4f"
      },
      "execution_count": 96,
      "outputs": [
        {
          "output_type": "stream",
          "name": "stdout",
          "text": [
            "+------------+--------+------------+---------+\n",
            "|HCHO_reading|Location|Current_Date|Next_Date|\n",
            "+------------+--------+------------+---------+\n",
            "+------------+--------+------------+---------+\n",
            "\n"
          ]
        }
      ]
    },
    {
      "cell_type": "code",
      "source": [
        "print(\"The number of null values in location column, \", sl_data.filter(col(\"Location\").isNull()).count())"
      ],
      "metadata": {
        "colab": {
          "base_uri": "https://localhost:8080/"
        },
        "id": "cdtSym-Faa81",
        "outputId": "5e0071e4-a365-432d-83d9-e13aeb1924a7"
      },
      "execution_count": 97,
      "outputs": [
        {
          "output_type": "stream",
          "name": "stdout",
          "text": [
            "The number of null values in location column,  0\n"
          ]
        }
      ]
    },
    {
      "cell_type": "code",
      "source": [
        "sl_data.printSchema()"
      ],
      "metadata": {
        "colab": {
          "base_uri": "https://localhost:8080/"
        },
        "id": "YrOgdj_B0rwO",
        "outputId": "d247145d-488c-445e-ef7a-caad3d7d62cf"
      },
      "execution_count": 98,
      "outputs": [
        {
          "output_type": "stream",
          "name": "stdout",
          "text": [
            "root\n",
            " |-- HCHO_reading: double (nullable = true)\n",
            " |-- Location: string (nullable = true)\n",
            " |-- Current_Date: date (nullable = true)\n",
            " |-- Next_Date: date (nullable = true)\n",
            "\n"
          ]
        }
      ]
    },
    {
      "cell_type": "markdown",
      "source": [
        "#Data Pre-processing"
      ],
      "metadata": {
        "id": "NnZc80TfqnyV"
      }
    },
    {
      "cell_type": "code",
      "source": [
        "import pandas as pd\n",
        "import matplotlib.pyplot as plt\n",
        "import seaborn as sns"
      ],
      "metadata": {
        "id": "e4YbZETUrc5g"
      },
      "execution_count": 99,
      "outputs": []
    },
    {
      "cell_type": "markdown",
      "source": [
        "##Fill null values"
      ],
      "metadata": {
        "id": "BO4cV3Y1OcEw"
      }
    },
    {
      "cell_type": "code",
      "source": [
        "hcho_reading_fill = sl_data.toPandas()\n",
        "hcho_reading_filled = hcho_reading_fill.interpolate(method=\"linear\")\n",
        "sl_data = spark.createDataFrame(pd.DataFrame(hcho_reading_filled))\n",
        "\n",
        "sl_data.groupBy(\"HCHO_reading\").count().orderBy(\"count\", ascending=False).show()\n",
        "sl_data.show()"
      ],
      "metadata": {
        "colab": {
          "base_uri": "https://localhost:8080/"
        },
        "id": "qerccd5E_u0c",
        "outputId": "a892780e-5b91-4784-a894-d4a0f5cf9b4f"
      },
      "execution_count": 100,
      "outputs": [
        {
          "output_type": "stream",
          "name": "stdout",
          "text": [
            "+--------------------+-----+\n",
            "|        HCHO_reading|count|\n",
            "+--------------------+-----+\n",
            "|5.590120257397272E-5|    2|\n",
            "|2.235211819832074E-5|    1|\n",
            "|8.925810029372805E-5|    1|\n",
            "|1.485055886232474...|    1|\n",
            "|1.144656784438417...|    1|\n",
            "|3.053348180253346...|    1|\n",
            "|1.624422749850199...|    1|\n",
            "|1.843671941389100...|    1|\n",
            "|2.289257347507758E-4|    1|\n",
            "|9.467302202011916E-5|    1|\n",
            "|1.568694436659797...|    1|\n",
            "|2.955471068557156E-4|    1|\n",
            "|6.491930822965615E-5|    1|\n",
            "|7.345198097368317E-5|    1|\n",
            "|1.167452603458876...|    1|\n",
            "|1.158354593824839...|    1|\n",
            "|-1.77529565191807...|    1|\n",
            "|7.002533500214887E-5|    1|\n",
            "|1.615022950584113E-4|    1|\n",
            "|8.031240614841725E-5|    1|\n",
            "+--------------------+-----+\n",
            "only showing top 20 rows\n",
            "\n",
            "+--------------------+--------------+------------+----------+\n",
            "|        HCHO_reading|      Location|Current_Date| Next_Date|\n",
            "+--------------------+--------------+------------+----------+\n",
            "|1.969834395781014...|Colombo Proper|  2019-01-01|2019-01-02|\n",
            "|2.625522171968594...|Colombo Proper|  2019-01-02|2019-01-03|\n",
            "|9.852118897938794E-5|Colombo Proper|  2019-01-03|2019-01-04|\n",
            "|2.099320518114242E-4|Colombo Proper|  2019-01-04|2019-01-05|\n",
            "|1.785337298892930...|Colombo Proper|  2019-01-05|2019-01-06|\n",
            "|1.082296700235670...|Colombo Proper|  2019-01-06|2019-01-07|\n",
            "|3.926829280477309...|Colombo Proper|  2019-01-07|2019-01-08|\n",
            "|9.153156350685351E-5|Colombo Proper|  2019-01-08|2019-01-09|\n",
            "|1.205978992853015...|Colombo Proper|  2019-01-09|2019-01-10|\n",
            "|1.297723562983258...|Colombo Proper|  2019-01-10|2019-01-11|\n",
            "|2.239188166801278...|Colombo Proper|  2019-01-11|2019-01-12|\n",
            "|1.569418094178759...|Colombo Proper|  2019-01-12|2019-01-13|\n",
            "|1.452855000520681...|Colombo Proper|  2019-01-13|2019-01-14|\n",
            "|1.336291906862603...|Colombo Proper|  2019-01-14|2019-01-15|\n",
            "|6.374417842690063E-5|Colombo Proper|  2019-01-15|2019-01-16|\n",
            "|1.181062250815020...|Colombo Proper|  2019-01-16|2019-01-17|\n",
            "|2.472555222423037...|Colombo Proper|  2019-01-17|2019-01-18|\n",
            "|3.667525352047757E-5|Colombo Proper|  2019-01-18|2019-01-19|\n",
            "|4.057500868150313E-4|Colombo Proper|  2019-01-19|2019-01-20|\n",
            "|1.687856216479722...|Colombo Proper|  2019-01-20|2019-01-21|\n",
            "+--------------------+--------------+------------+----------+\n",
            "only showing top 20 rows\n",
            "\n"
          ]
        }
      ]
    },
    {
      "cell_type": "markdown",
      "source": [
        "##Detect and handle outliers"
      ],
      "metadata": {
        "id": "SnDzlB8KOnzQ"
      }
    },
    {
      "cell_type": "code",
      "source": [
        "def detect_outliers_iqr(dataframe, column, factor = 1.4):\n",
        "    # Calculate the first quartile (Q1) and third quartile (Q3)\n",
        "    quantiles = dataframe.approxQuantile(column, [0.25, 0.75], 0.01)\n",
        "    Q1 = quantiles[0]\n",
        "    Q3 = quantiles[1]\n",
        "\n",
        "    # Interquartile Range (IQR)\n",
        "    IQR = Q3 - Q1\n",
        "\n",
        "    lowerbound = Q1 - factor * IQR\n",
        "    upperbound = Q3 + factor * IQR\n",
        "\n",
        "    # Determine outliers\n",
        "    outliers = dataframe.filter((col(column) < lowerbound) | (col(column) > upperbound))\n",
        "\n",
        "    return outliers"
      ],
      "metadata": {
        "id": "DVlbVVAa9tOx"
      },
      "execution_count": 101,
      "outputs": []
    },
    {
      "cell_type": "code",
      "source": [
        "hcho_reading = sl_data.toPandas()\n",
        "\n",
        "plt.figure(figsize=(8, 6))\n",
        "plt.boxplot(hcho_reading[\"HCHO_reading\"], vert=False)\n",
        "plt.title('Boxplot - HCHO_reading')\n",
        "plt.xlabel('HCHO_reading')\n",
        "plt.ylabel('Distribution')\n",
        "plt.grid(True)\n",
        "plt.show()"
      ],
      "metadata": {
        "colab": {
          "base_uri": "https://localhost:8080/",
          "height": 0
        },
        "id": "hZWiZO76O2ok",
        "outputId": "f1af45f0-3038-4462-a0c3-6d8eabc8ef9a"
      },
      "execution_count": 102,
      "outputs": [
        {
          "output_type": "display_data",
          "data": {
            "text/plain": [
              "<Figure size 800x600 with 1 Axes>"
            ],
            "image/png": "[encoded data removed]"
          },
          "metadata": {}
        }
      ]
    },
    {
      "cell_type": "code",
      "source": [
        "# Detect outliers in the HCHO readings column\n",
        "outliers_hcho = detect_outliers_iqr(sl_data, 'HCHO_reading')\n",
        "print(\"The number of outliers in HCHO reading column :\", outliers_hcho.count())\n",
        "print(\"The number of rows in the dataframe :\", sl_data.count())"
      ],
      "metadata": {
        "colab": {
          "base_uri": "https://localhost:8080/"
        },
        "id": "duyjq7klO679",
        "outputId": "f3c81616-e781-436a-f30a-e252df1d2211"
      },
      "execution_count": 103,
      "outputs": [
        {
          "output_type": "stream",
          "name": "stdout",
          "text": [
            "The number of outliers in HCHO reading column : 431\n",
            "The number of rows in the dataframe : 12782\n"
          ]
        }
      ]
    },
    {
      "cell_type": "code",
      "source": [
        "sl_data = sl_data.subtract(outliers_hcho)\n",
        "print(\"The number of rows in the dataframe :\", sl_data.count())"
      ],
      "metadata": {
        "colab": {
          "base_uri": "https://localhost:8080/"
        },
        "id": "-LQBzwzhQ2FY",
        "outputId": "e1b718d4-543c-4d89-c215-d79b58f11b5a"
      },
      "execution_count": 104,
      "outputs": [
        {
          "output_type": "stream",
          "name": "stdout",
          "text": [
            "The number of rows in the dataframe : 12351\n"
          ]
        }
      ]
    },
    {
      "cell_type": "code",
      "source": [
        "hcho_reading_data = sl_data.toPandas()\n",
        "\n",
        "plt.figure(figsize=(8, 6))\n",
        "plt.boxplot(hcho_reading_data.HCHO_reading, vert=False)\n",
        "plt.title('Boxplot - HCHO_reading')\n",
        "plt.xlabel('HCHO_reading')\n",
        "plt.ylabel('Distribution')\n",
        "plt.grid(True)\n",
        "plt.show()"
      ],
      "metadata": {
        "colab": {
          "base_uri": "https://localhost:8080/",
          "height": 0
        },
        "id": "4pw_MgaaU-1F",
        "outputId": "6d26774a-1e03-45e9-e3a3-65eb8fc7e1f7"
      },
      "execution_count": 105,
      "outputs": [
        {
          "output_type": "display_data",
          "data": {
            "text/plain": [
              "<Figure size 800x600 with 1 Axes>"
            ],
            "image/png": "[encoded data removed]"
          },
          "metadata": {}
        }
      ]
    },
    {
      "cell_type": "markdown",
      "source": [
        "##Summarize dataset"
      ],
      "metadata": {
        "id": "x0_fBDuEL-DA"
      }
    },
    {
      "cell_type": "code",
      "source": [
        "#summary_df = sl_data.select\n",
        "sl_data.groupBy('Location').agg(\n",
        "    mean('HCHO_reading').alias('mean(HCHO_reading)'),\n",
        "    median('HCHO_reading'),\n",
        "    stddev('HCHO_reading')).show()"
      ],
      "metadata": {
        "colab": {
          "base_uri": "https://localhost:8080/"
        },
        "id": "AINMOul6L5V4",
        "outputId": "41ef98cc-3b6c-427f-f926-7fae3c5f7c19"
      },
      "execution_count": 106,
      "outputs": [
        {
          "output_type": "stream",
          "name": "stdout",
          "text": [
            "+-------------------+--------------------+--------------------+--------------------+\n",
            "|           Location|  mean(HCHO_reading)|median(HCHO_reading)|stddev(HCHO_reading)|\n",
            "+-------------------+--------------------+--------------------+--------------------+\n",
            "|       Kandy Proper|9.864350993400207E-5|9.544988197364665E-5|7.337368793748523E-5|\n",
            "|   Deniyaya, Matara| 8.73963238364968E-5|8.073384512511853E-5|7.101688330282398E-5|\n",
            "|  Kurunegala Proper|1.196647759697169...|1.131715883095128...|7.202016614259914E-5|\n",
            "| Bibile, Monaragala|1.154192293799778...|1.147729833832740...|7.557023478754478E-5|\n",
            "|     Colombo Proper|1.406286515999640...|1.370929537762054...| 7.61778963200738E-5|\n",
            "|Nuwara Eliya Proper|8.215463186454978E-5|7.614431953481086E-5|6.914954177956821E-5|\n",
            "|      Jaffna Proper|1.035889472938797...|9.853363920911935E-5|6.290372462092302E-5|\n",
            "+-------------------+--------------------+--------------------+--------------------+\n",
            "\n"
          ]
        }
      ]
    },
    {
      "cell_type": "code",
      "source": [
        "sl_data.agg(\n",
        "    mean('HCHO_reading').alias('mean(HCHO_reading)'),\n",
        "    median('HCHO_reading'),\n",
        "    stddev('HCHO_reading')).show()"
      ],
      "metadata": {
        "colab": {
          "base_uri": "https://localhost:8080/"
        },
        "id": "maZoW3-qXLEw",
        "outputId": "08ee03bc-3058-4bdd-eaea-cb30e8ec7c6c"
      },
      "execution_count": 107,
      "outputs": [
        {
          "output_type": "stream",
          "name": "stdout",
          "text": [
            "+--------------------+--------------------+--------------------+\n",
            "|  mean(HCHO_reading)|median(HCHO_reading)|stddev(HCHO_reading)|\n",
            "+--------------------+--------------------+--------------------+\n",
            "|1.065202299729504...|1.018427415577984...|7.389404558971392E-5|\n",
            "+--------------------+--------------------+--------------------+\n",
            "\n"
          ]
        }
      ]
    },
    {
      "cell_type": "markdown",
      "source": [
        "## Boxplots & Histograms"
      ],
      "metadata": {
        "id": "mzG5seulGKuY"
      }
    },
    {
      "cell_type": "code",
      "source": [
        "pd_sl_data = sl_data.toPandas()"
      ],
      "metadata": {
        "id": "EhRqKH84KcWO"
      },
      "execution_count": 108,
      "outputs": []
    },
    {
      "cell_type": "code",
      "source": [
        "sns.histplot(x='HCHO_reading', palette='coolwarm', hue='Location', data=pd_sl_data)\n",
        "plt.title(\"Histogram showcasing HCHO readings for locations\")\n",
        "plt.show()"
      ],
      "metadata": {
        "colab": {
          "base_uri": "https://localhost:8080/",
          "height": 0
        },
        "id": "SydGJpkYO7CQ",
        "outputId": "7639dfb8-7a3c-44ef-8485-2b62d4c237ec"
      },
      "execution_count": 109,
      "outputs": [
        {
          "output_type": "display_data",
          "data": {
            "text/plain": [
              "<Figure size 640x480 with 1 Axes>"
            ],
            "image/png": "[encoded data removed]"
          },
          "metadata": {}
        }
      ]
    },
    {
      "cell_type": "code",
      "source": [
        "sns.boxplot(x='HCHO_reading', palette='coolwarm', y='Location', data=pd_sl_data)\n",
        "plt.title(\"Boxplot showcasing HCHO readings for locations\")\n",
        "plt.show()"
      ],
      "metadata": {
        "colab": {
          "base_uri": "https://localhost:8080/",
          "height": 0
        },
        "id": "UYHetr81PrNS",
        "outputId": "cd8fdd0b-f32c-468a-bdca-67a7dcd190bc"
      },
      "execution_count": 110,
      "outputs": [
        {
          "output_type": "stream",
          "name": "stderr",
          "text": [
            "<ipython-input-110-3d514ab50425>:1: FutureWarning: \n",
            "\n",
            "Passing `palette` without assigning `hue` is deprecated and will be removed in v0.14.0. Assign the `y` variable to `hue` and set `legend=False` for the same effect.\n",
            "\n",
            "  sns.boxplot(x='HCHO_reading', palette='coolwarm', y='Location', data=pd_sl_data)\n"
          ]
        },
        {
          "output_type": "display_data",
          "data": {
            "text/plain": [
              "<Figure size 640x480 with 1 Axes>"
            ],
            "image/png": "[encoded data removed]"
          },
          "metadata": {}
        }
      ]
    },
    {
      "cell_type": "code",
      "source": [
        "sns.boxplot(x='HCHO_reading', data=pd_sl_data)\n",
        "plt.title('Boxplot showing the HCHO readings')\n",
        "plt.show()"
      ],
      "metadata": {
        "colab": {
          "base_uri": "https://localhost:8080/",
          "height": 0
        },
        "id": "xTRzyFXtQTmO",
        "outputId": "8a572f71-4d6b-4a7d-91fc-75a9533d699b"
      },
      "execution_count": 111,
      "outputs": [
        {
          "output_type": "display_data",
          "data": {
            "text/plain": [
              "<Figure size 640x480 with 1 Axes>"
            ],
            "image/png": "[encoded data removed]"
          },
          "metadata": {}
        }
      ]
    },
    {
      "cell_type": "markdown",
      "source": [
        "#Spatio-Temporal Analysis"
      ],
      "metadata": {
        "id": "i8egKOY-rBa0"
      }
    },
    {
      "cell_type": "markdown",
      "source": [
        "##Analysis of trends over time"
      ],
      "metadata": {
        "id": "MpXS3r9C7eso"
      }
    },
    {
      "cell_type": "code",
      "source": [],
      "metadata": {
        "id": "iibU_E7A7fBG"
      },
      "execution_count": null,
      "outputs": []
    },
    {
      "cell_type": "markdown",
      "source": [
        "## Add external factors to the dataframe"
      ],
      "metadata": {
        "id": "y9ylsH1jj-sa"
      }
    },
    {
      "cell_type": "code",
      "source": [
        "from pyspark.sql import functions as F"
      ],
      "metadata": {
        "id": "1GhfDCY71e8R"
      },
      "execution_count": 117,
      "outputs": []
    },
    {
      "cell_type": "code",
      "source": [
        "sl_data = sl_data.withColumn(\n",
        "    \"Population_Density\",\n",
        "    F.when(col(\"Location\").isin([\"Colombo Proper\", \"Jaffna Proper\", \"Kandy Proper\"]), \"High\")\n",
        "    .when(col(\"Location\").isin([\"Nuwara Eliya Proper\", \"Kurunegala Proper\"]), \"Moderate\")\n",
        "    .when(col(\"Location\").isin([\"Deniyaya, Matara\", \"Bibile, Monaragala\"]), \"Moderate\")\n",
        "    .otherwise(None)\n",
        ")\n",
        "\n",
        "sl_data = sl_data.withColumn(\n",
        "    \"Elevation\",\n",
        "    F.when(col(\"Location\").isin([\"Colombo Proper\", \"Jaffna Proper\", \"Deniyaya, Matara\"]), \"Low\")\n",
        "    .when(col(\"Location\").isin([\"Nuwara Eliya Proper\", \"Kurunegala Proper\", \"Kandy Proper\", \"Bibile, Monaragala\"]), \"High\")\n",
        "    .otherwise(None)\n",
        ")"
      ],
      "metadata": {
        "id": "uDL5hnwFrdT9"
      },
      "execution_count": 118,
      "outputs": []
    },
    {
      "cell_type": "code",
      "source": [
        "sl_data.show()"
      ],
      "metadata": {
        "colab": {
          "base_uri": "https://localhost:8080/"
        },
        "id": "UnavfQnLq_-L",
        "outputId": "9abed9ae-5b92-49d3-d120-85bd9960ccf4"
      },
      "execution_count": 119,
      "outputs": [
        {
          "output_type": "stream",
          "name": "stdout",
          "text": [
            "+--------------------+-------------------+------------+----------+------------------+---------+\n",
            "|        HCHO_reading|           Location|Current_Date| Next_Date|Population_Density|Elevation|\n",
            "+--------------------+-------------------+------------+----------+------------------+---------+\n",
            "|1.981789630254356E-4|     Colombo Proper|  2019-02-11|2019-02-12|              High|      Low|\n",
            "|2.548286008604607E-4|     Colombo Proper|  2019-03-13|2019-03-14|              High|      Low|\n",
            "|1.399382956399640...|     Colombo Proper|  2019-04-24|2019-04-25|              High|      Low|\n",
            "|1.967218725518155...|     Colombo Proper|  2020-07-23|2020-07-24|              High|      Low|\n",
            "| 1.58109816407928E-4|     Colombo Proper|  2020-08-29|2020-08-30|              High|      Low|\n",
            "|8.078253427334957E-5|     Colombo Proper|  2021-06-25|2021-06-26|              High|      Low|\n",
            "|1.009215347501832...|     Colombo Proper|  2021-10-01|2021-10-02|              High|      Low|\n",
            "|1.679734273305888...|     Colombo Proper|  2023-06-05|2023-06-06|              High|      Low|\n",
            "|7.521904743490836E-5|   Deniyaya, Matara|  2019-05-05|2019-05-06|          Moderate|      Low|\n",
            "|6.963729241707653E-5|   Deniyaya, Matara|  2019-05-13|2019-05-14|          Moderate|      Low|\n",
            "| 5.38664877510619E-5|   Deniyaya, Matara|  2019-06-06|2019-06-07|          Moderate|      Low|\n",
            "|8.076289701838124E-5|   Deniyaya, Matara|  2019-06-30|2019-07-01|          Moderate|      Low|\n",
            "|1.659523665068428E-4|   Deniyaya, Matara|  2020-03-28|2020-03-29|          Moderate|      Low|\n",
            "|1.043614608600564...|   Deniyaya, Matara|  2020-08-26|2020-08-27|          Moderate|      Low|\n",
            "|8.774188287425133E-5|   Deniyaya, Matara|  2021-05-14|2021-05-15|          Moderate|      Low|\n",
            "|1.346110066996149...|   Deniyaya, Matara|  2021-06-05|2021-06-06|          Moderate|      Low|\n",
            "|2.098910903312645...|   Deniyaya, Matara|  2022-01-06|2022-01-07|          Moderate|      Low|\n",
            "|1.498895546320263...|   Deniyaya, Matara|  2022-08-15|2022-08-16|          Moderate|      Low|\n",
            "|1.859830888631777...|   Deniyaya, Matara|  2022-08-21|2022-08-22|          Moderate|      Low|\n",
            "|2.926211328115972E-4|Nuwara Eliya Proper|  2020-03-02|2020-03-03|          Moderate|     High|\n",
            "+--------------------+-------------------+------------+----------+------------------+---------+\n",
            "only showing top 20 rows\n",
            "\n"
          ]
        }
      ]
    },
    {
      "cell_type": "markdown",
      "source": [
        "##Compare spatial patterns"
      ],
      "metadata": {
        "id": "GCWnpad9-UAo"
      }
    },
    {
      "cell_type": "code",
      "source": [],
      "metadata": {
        "id": "6HzdzEZy-R-t"
      },
      "execution_count": null,
      "outputs": []
    },
    {
      "cell_type": "markdown",
      "source": [
        "#Machine Learning model"
      ],
      "metadata": {
        "id": "wZocKTAbrOtC"
      }
    },
    {
      "cell_type": "code",
      "source": [],
      "metadata": {
        "id": "dWUbgq5BP5vk"
      },
      "execution_count": null,
      "outputs": []
    }
  ]
}