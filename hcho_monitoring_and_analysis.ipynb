{
  "nbformat": 4,
  "nbformat_minor": 0,
  "metadata": {
    "colab": {
      "provenance": [],
      "mount_file_id": "15X0Fxpx_AGzNxI2ZzO8Ya0E7gmnOiwBH",
      "authorship_tag": "ABX9TyNsMGZlCSWqDalZ1A8z0UW6",
      "include_colab_link": true
    },
    "kernelspec": {
      "name": "python3",
      "display_name": "Python 3"
    },
    "language_info": {
      "name": "python"
    }
  },
  "cells": [
    {
      "cell_type": "markdown",
      "metadata": {
        "id": "view-in-github",
        "colab_type": "text"
      },
      "source": [
        "<a href=\"https://colab.research.google.com/github/MohHaroon/Adult-Census-Income-Classification/blob/main/hcho_monitoring_and_analysis.ipynb\" target=\"_parent\"><img src=\"https://colab.research.google.com/assets/colab-badge.svg\" alt=\"Open In Colab\"/></a>"
      ]
    },
    {
      "cell_type": "markdown",
      "source": [
        "# Import necessary libraries"
      ],
      "metadata": {
        "id": "IwmAF3u0OlV9"
      }
    },
    {
      "cell_type": "code",
      "source": [
        "!pip install pyspark"
      ],
      "metadata": {
        "colab": {
          "base_uri": "https://localhost:8080/"
        },
        "id": "ZvIRdg09gmni",
        "outputId": "5ec77e4a-26e7-45e4-9ee2-1b09cb9fc3ab"
      },
      "execution_count": 5,
      "outputs": [
        {
          "output_type": "stream",
          "name": "stdout",
          "text": [
            "Collecting pyspark\n",
            "  Downloading pyspark-3.5.1.tar.gz (317.0 MB)\n",
            "\u001b[2K     \u001b[90m━━━━━━━━━━━━━━━━━━━━━━━━━━━━━━━━━━━━━━━━\u001b[0m \u001b[32m317.0/317.0 MB\u001b[0m \u001b[31m1.1 MB/s\u001b[0m eta \u001b[36m0:00:00\u001b[0m\n",
            "\u001b[?25h  Preparing metadata (setup.py) ... \u001b[?25l\u001b[?25hdone\n",
            "Requirement already satisfied: py4j==0.10.9.7 in /usr/local/lib/python3.10/dist-packages (from pyspark) (0.10.9.7)\n",
            "Building wheels for collected packages: pyspark\n",
            "  Building wheel for pyspark (setup.py) ... \u001b[?25l\u001b[?25hdone\n",
            "  Created wheel for pyspark: filename=pyspark-3.5.1-py2.py3-none-any.whl size=317488491 sha256=83f605d42e270bb97a1f813d1dcd99e7e301d029fc866afc6b2e8af07531fa5a\n",
            "  Stored in directory: /root/.cache/pip/wheels/80/1d/60/2c256ed38dddce2fdd93be545214a63e02fbd8d74fb0b7f3a6\n",
            "Successfully built pyspark\n",
            "Installing collected packages: pyspark\n",
            "Successfully installed pyspark-3.5.1\n"
          ]
        }
      ]
    },
    {
      "cell_type": "code",
      "execution_count": 7,
      "metadata": {
        "id": "qvLd_FX6N1dZ"
      },
      "outputs": [],
      "source": [
        "from pyspark.sql import SparkSession\n",
        "from pyspark.sql.functions import *\n",
        "from pyspark.sql.types import *\n"
      ]
    },
    {
      "cell_type": "markdown",
      "source": [
        "#Initialize Spark session\n"
      ],
      "metadata": {
        "id": "fOmyfe2jQEyL"
      }
    },
    {
      "cell_type": "code",
      "source": [
        "spark = SparkSession.builder.appName(\"HCHO_analysis\").getOrCreate()"
      ],
      "metadata": {
        "id": "rq17YfttQLQz"
      },
      "execution_count": 17,
      "outputs": []
    },
    {
      "cell_type": "markdown",
      "source": [
        "#Load data into the dataset"
      ],
      "metadata": {
        "id": "qqu1tRgEhsDP"
      }
    },
    {
      "cell_type": "code",
      "source": [
        "col_mat_nuw_output = spark.read.csv(\"/content/drive/MyDrive/CM2606 CW/col_mat_nuw_output.csv\", inferSchema = True)\n",
        "mon_kur_jaf_output = spark.read.csv(\"/content/drive/MyDrive/CM2606 CW/mon_kur_jaf_output.csv\", inferSchema = True)\n",
        "kan_output = spark.read.csv(\"/content/drive/MyDrive/CM2606 CW/kan_output.csv\", inferSchema = True)"
      ],
      "metadata": {
        "id": "6cvt6MpZhwxB"
      },
      "execution_count": 25,
      "outputs": []
    },
    {
      "cell_type": "code",
      "source": [
        "col_mat_nuw_output.show()\n",
        "mon_kur_jaf_output.show()\n",
        "kan_output.show()"
      ],
      "metadata": {
        "colab": {
          "base_uri": "https://localhost:8080/"
        },
        "id": "DQp0XHKzjwKH",
        "outputId": "3741a864-8a43-4393-be86-e2a19abc9918"
      },
      "execution_count": 26,
      "outputs": [
        {
          "output_type": "stream",
          "name": "stdout",
          "text": [
            "+--------------------+--------------+----------+----------+\n",
            "|                 _c0|           _c1|       _c2|       _c3|\n",
            "+--------------------+--------------+----------+----------+\n",
            "|1.969834395781014...|Colombo Proper|2019-01-01|2019-01-02|\n",
            "|2.625522171968594...|Colombo Proper|2019-01-02|2019-01-03|\n",
            "|9.852118897938794E-5|Colombo Proper|2019-01-03|2019-01-04|\n",
            "|2.099320518114242E-4|Colombo Proper|2019-01-04|2019-01-05|\n",
            "|1.785337298892930...|Colombo Proper|2019-01-05|2019-01-06|\n",
            "|1.082296700235670...|Colombo Proper|2019-01-06|2019-01-07|\n",
            "|3.926829280477309...|Colombo Proper|2019-01-07|2019-01-08|\n",
            "|9.153156350685351E-5|Colombo Proper|2019-01-08|2019-01-09|\n",
            "|1.205978992853015...|Colombo Proper|2019-01-09|2019-01-10|\n",
            "|1.297723562983258...|Colombo Proper|2019-01-10|2019-01-11|\n",
            "|2.239188166801278...|Colombo Proper|2019-01-11|2019-01-12|\n",
            "|1.569418094178759...|Colombo Proper|2019-01-12|2019-01-13|\n",
            "|                NULL|Colombo Proper|2019-01-13|2019-01-14|\n",
            "|1.336291906862603...|Colombo Proper|2019-01-14|2019-01-15|\n",
            "|6.374417842690063E-5|Colombo Proper|2019-01-15|2019-01-16|\n",
            "|1.181062250815020...|Colombo Proper|2019-01-16|2019-01-17|\n",
            "|2.472555222423037...|Colombo Proper|2019-01-17|2019-01-18|\n",
            "|3.667525352047757E-5|Colombo Proper|2019-01-18|2019-01-19|\n",
            "|4.057500868150313E-4|Colombo Proper|2019-01-19|2019-01-20|\n",
            "|1.687856216479722...|Colombo Proper|2019-01-20|2019-01-21|\n",
            "+--------------------+--------------+----------+----------+\n",
            "only showing top 20 rows\n",
            "\n",
            "+--------------------+------------------+----------+----------+\n",
            "|                 _c0|               _c1|       _c2|       _c3|\n",
            "+--------------------+------------------+----------+----------+\n",
            "|                NULL|Bibile, Monaragala|2019-01-01|2019-01-02|\n",
            "|1.919914652467399E-5|Bibile, Monaragala|2019-01-02|2019-01-03|\n",
            "|2.811447935930283...|Bibile, Monaragala|2019-01-03|2019-01-04|\n",
            "|3.747998184385943E-5|Bibile, Monaragala|2019-01-04|2019-01-05|\n",
            "|-1.79826087934531...|Bibile, Monaragala|2019-01-05|2019-01-06|\n",
            "|1.457836896179902...|Bibile, Monaragala|2019-01-06|2019-01-07|\n",
            "|2.828590802546534...|Bibile, Monaragala|2019-01-07|2019-01-08|\n",
            "|                NULL|Bibile, Monaragala|2019-01-08|2019-01-09|\n",
            "|1.420850167050957...|Bibile, Monaragala|2019-01-09|2019-01-10|\n",
            "|                NULL|Bibile, Monaragala|2019-01-10|2019-01-11|\n",
            "|2.014587947072581E-5|Bibile, Monaragala|2019-01-11|2019-01-12|\n",
            "|1.582787663210183...|Bibile, Monaragala|2019-01-12|2019-01-13|\n",
            "|                NULL|Bibile, Monaragala|2019-01-13|2019-01-14|\n",
            "|                NULL|Bibile, Monaragala|2019-01-14|2019-01-15|\n",
            "|9.952823849642218E-5|Bibile, Monaragala|2019-01-15|2019-01-16|\n",
            "|7.484570960514249E-5|Bibile, Monaragala|2019-01-16|2019-01-17|\n",
            "|7.736112226328797E-5|Bibile, Monaragala|2019-01-17|2019-01-18|\n",
            "|                NULL|Bibile, Monaragala|2019-01-18|2019-01-19|\n",
            "|3.988141010407665...|Bibile, Monaragala|2019-01-19|2019-01-20|\n",
            "|1.891620203853342...|Bibile, Monaragala|2019-01-20|2019-01-21|\n",
            "+--------------------+------------------+----------+----------+\n",
            "only showing top 20 rows\n",
            "\n",
            "+--------------------+------------+----------+----------+\n",
            "|                 _c0|         _c1|       _c2|       _c3|\n",
            "+--------------------+------------+----------+----------+\n",
            "|1.760713459877335...|Kandy Proper|2019-01-01|2019-01-02|\n",
            "|9.220391253917748E-5|Kandy Proper|2019-01-02|2019-01-03|\n",
            "|                NULL|Kandy Proper|2019-01-03|2019-01-04|\n",
            "|1.908681983853839...|Kandy Proper|2019-01-04|2019-01-05|\n",
            "|1.219517840206744...|Kandy Proper|2019-01-05|2019-01-06|\n",
            "|-6.51408612938880...|Kandy Proper|2019-01-06|2019-01-07|\n",
            "|  1.6323820639265E-4|Kandy Proper|2019-01-07|2019-01-08|\n",
            "|-6.73520553391426...|Kandy Proper|2019-01-08|2019-01-09|\n",
            "|1.279693658243135...|Kandy Proper|2019-01-09|2019-01-10|\n",
            "|4.546048424126012E-5|Kandy Proper|2019-01-10|2019-01-11|\n",
            "|3.600074175192105E-5|Kandy Proper|2019-01-11|2019-01-12|\n",
            "|1.286629698010177E-4|Kandy Proper|2019-01-12|2019-01-13|\n",
            "|                NULL|Kandy Proper|2019-01-13|2019-01-14|\n",
            "|                NULL|Kandy Proper|2019-01-14|2019-01-15|\n",
            "| 9.63639634671553E-5|Kandy Proper|2019-01-15|2019-01-16|\n",
            "|                NULL|Kandy Proper|2019-01-16|2019-01-17|\n",
            "|1.200971278484736...|Kandy Proper|2019-01-17|2019-01-18|\n",
            "|-1.19724656713695...|Kandy Proper|2019-01-18|2019-01-19|\n",
            "|2.825263761529470...|Kandy Proper|2019-01-19|2019-01-20|\n",
            "|7.150631692646835E-5|Kandy Proper|2019-01-20|2019-01-21|\n",
            "+--------------------+------------+----------+----------+\n",
            "only showing top 20 rows\n",
            "\n"
          ]
        }
      ]
    },
    {
      "cell_type": "code",
      "source": [],
      "metadata": {
        "id": "5fG3NrxTj-WU"
      },
      "execution_count": null,
      "outputs": []
    }
  ]
}